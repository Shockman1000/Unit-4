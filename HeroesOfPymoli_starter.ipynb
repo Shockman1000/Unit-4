{
 "cells": [
  {
   "cell_type": "markdown",
   "metadata": {},
   "source": [
    "### Note\n",
    "* Instructions have been included for each segment. You do not have to follow them exactly, but they are included to help you think through the steps."
   ]
  },
  {
   "cell_type": "code",
   "execution_count": 23,
   "metadata": {},
   "outputs": [
    {
     "output_type": "execute_result",
     "data": {
      "text/plain": "Purchase ID    0\nSN             0\nAge            0\nGender         0\nItem ID        0\nItem Name      0\nPrice          0\ndtype: int64"
     },
     "metadata": {},
     "execution_count": 23
    }
   ],
   "source": [
    "import pandas as pd\n",
    "file_to_load = \"purchase_data.csv\"\n",
    "df = pd.read_csv(file_to_load)\n",
    "df.isnull().sum()"
   ]
  },
  {
   "cell_type": "markdown",
   "metadata": {},
   "source": [
    "## Player Count"
   ]
  },
  {
   "cell_type": "markdown",
   "metadata": {},
   "source": [
    "* Display the total number of players\n"
   ]
  },
  {
   "cell_type": "code",
   "execution_count": 24,
   "metadata": {},
   "outputs": [
    {
     "output_type": "execute_result",
     "data": {
      "text/plain": "   Total Players\n0            576",
      "text/html": "<div>\n<style scoped>\n    .dataframe tbody tr th:only-of-type {\n        vertical-align: middle;\n    }\n\n    .dataframe tbody tr th {\n        vertical-align: top;\n    }\n\n    .dataframe thead th {\n        text-align: right;\n    }\n</style>\n<table border=\"1\" class=\"dataframe\">\n  <thead>\n    <tr style=\"text-align: right;\">\n      <th></th>\n      <th>Total Players</th>\n    </tr>\n  </thead>\n  <tbody>\n    <tr>\n      <td>0</td>\n      <td>576</td>\n    </tr>\n  </tbody>\n</table>\n</div>"
     },
     "metadata": {},
     "execution_count": 24
    }
   ],
   "source": [
    "player_total = len(df['SN'].unique())\n",
    "player_count = pd.DataFrame([{'Total Players': player_total}])\n",
    "player_count.head()"
   ]
  },
  {
   "cell_type": "markdown",
   "metadata": {},
   "source": [
    "## Purchasing Analysis (Total)"
   ]
  },
  {
   "cell_type": "markdown",
   "metadata": {},
   "source": [
    "* Run basic calculations to obtain number of unique items, average price, etc.\n",
    "\n",
    "\n",
    "* Create a summary data frame to hold the results\n",
    "\n",
    "\n",
    "* Optional: give the displayed data cleaner formatting\n",
    "\n",
    "\n",
    "* Display the summary data frame\n"
   ]
  },
  {
   "cell_type": "code",
   "execution_count": 25,
   "metadata": {
    "scrolled": true
   },
   "outputs": [
    {
     "output_type": "execute_result",
     "data": {
      "text/plain": "   Number of Unique Items  Total Revenue  Number of Purchases  Average Price\n0                     183        2379.77                  780       3.050987",
      "text/html": "<div>\n<style scoped>\n    .dataframe tbody tr th:only-of-type {\n        vertical-align: middle;\n    }\n\n    .dataframe tbody tr th {\n        vertical-align: top;\n    }\n\n    .dataframe thead th {\n        text-align: right;\n    }\n</style>\n<table border=\"1\" class=\"dataframe\">\n  <thead>\n    <tr style=\"text-align: right;\">\n      <th></th>\n      <th>Number of Unique Items</th>\n      <th>Total Revenue</th>\n      <th>Number of Purchases</th>\n      <th>Average Price</th>\n    </tr>\n  </thead>\n  <tbody>\n    <tr>\n      <td>0</td>\n      <td>183</td>\n      <td>2379.77</td>\n      <td>780</td>\n      <td>3.050987</td>\n    </tr>\n  </tbody>\n</table>\n</div>"
     },
     "metadata": {},
     "execution_count": 25
    }
   ],
   "source": [
    "number_unique_items = len(df['Item ID'].unique())\n",
    "average_purchase_price = df['Price'].mean()\n",
    "total_number_purchase = df['Item ID'].count()\n",
    "total_revenue = df['Price'].sum()\n",
    "\n",
    "table = pd.DataFrame({\"Number of Unique Items\": number_unique_items,\n",
    "                      \"Total Revenue\": [total_revenue],\n",
    "                      \"Number of Purchases\": [total_number_purchase],\n",
    "                      \"Average Price\": [average_purchase_price]})\n",
    "table.head()"
   ]
  },
  {
   "cell_type": "markdown",
   "metadata": {},
   "source": [
    "## Gender Demographics"
   ]
  },
  {
   "cell_type": "markdown",
   "metadata": {},
   "source": [
    "* Percentage and Count of Male Players\n",
    "\n",
    "\n",
    "* Percentage and Count of Female Players\n",
    "\n",
    "\n",
    "* Percentage and Count of Other / Non-Disclosed\n",
    "\n",
    "\n"
   ]
  },
  {
   "cell_type": "code",
   "execution_count": 26,
   "metadata": {},
   "outputs": [
    {
     "output_type": "execute_result",
     "data": {
      "text/plain": "                       Total Count  Percentage of Palyers (%)\nGender                                                       \nFemale                          81                  14.062500\nMale                           484                  84.027778\nOther / Non-Disclosed           11                   1.909722",
      "text/html": "<div>\n<style scoped>\n    .dataframe tbody tr th:only-of-type {\n        vertical-align: middle;\n    }\n\n    .dataframe tbody tr th {\n        vertical-align: top;\n    }\n\n    .dataframe thead th {\n        text-align: right;\n    }\n</style>\n<table border=\"1\" class=\"dataframe\">\n  <thead>\n    <tr style=\"text-align: right;\">\n      <th></th>\n      <th>Total Count</th>\n      <th>Percentage of Palyers (%)</th>\n    </tr>\n    <tr>\n      <th>Gender</th>\n      <th></th>\n      <th></th>\n    </tr>\n  </thead>\n  <tbody>\n    <tr>\n      <td>Female</td>\n      <td>81</td>\n      <td>14.062500</td>\n    </tr>\n    <tr>\n      <td>Male</td>\n      <td>484</td>\n      <td>84.027778</td>\n    </tr>\n    <tr>\n      <td>Other / Non-Disclosed</td>\n      <td>11</td>\n      <td>1.909722</td>\n    </tr>\n  </tbody>\n</table>\n</div>"
     },
     "metadata": {},
     "execution_count": 26
    }
   ],
   "source": [
    "df_grouped_gender = df.groupby(['Gender'])\n",
    "df_gender = pd.DataFrame()\n",
    "\n",
    "df_gender['Total Count'] = df_grouped_gender['SN'].nunique()\n",
    "df_gender['Percentage of Palyers (%)'] = df_gender['Total Count'] / player_total * 100\n",
    "df_gender.head()"
   ]
  },
  {
   "cell_type": "markdown",
   "metadata": {},
   "source": []
  },
  {
   "cell_type": "markdown",
   "metadata": {},
   "source": [
    "* Run basic calculations to obtain purchase count, avg. purchase price, avg. purchase total per person etc. by gender\n",
    "\n",
    "\n",
    "\n",
    "\n",
    "* Create a summary data frame to hold the results\n",
    "\n",
    "\n",
    "* Optional: give the displayed data cleaner formatting\n",
    "\n",
    "\n",
    "* Display the summary data frame"
   ]
  },
  {
   "cell_type": "code",
   "execution_count": 36,
   "metadata": {},
   "outputs": [
    {
     "output_type": "execute_result",
     "data": {
      "text/plain": "                       Purchase Count  Average Purchase Price  \\\nGender                                                          \nFemale                            113                3.203009   \nMale                              652                3.017853   \nOther / Non-Disclosed              15                3.346000   \n\n                       Total Purchase Value  Normalized Totals  \nGender                                                          \nFemale                               361.94           4.468395  \nMale                                1967.64           4.065372  \nOther / Non-Disclosed                 50.19           4.562727  ",
      "text/html": "<div>\n<style scoped>\n    .dataframe tbody tr th:only-of-type {\n        vertical-align: middle;\n    }\n\n    .dataframe tbody tr th {\n        vertical-align: top;\n    }\n\n    .dataframe thead th {\n        text-align: right;\n    }\n</style>\n<table border=\"1\" class=\"dataframe\">\n  <thead>\n    <tr style=\"text-align: right;\">\n      <th></th>\n      <th>Purchase Count</th>\n      <th>Average Purchase Price</th>\n      <th>Total Purchase Value</th>\n      <th>Normalized Totals</th>\n    </tr>\n    <tr>\n      <th>Gender</th>\n      <th></th>\n      <th></th>\n      <th></th>\n      <th></th>\n    </tr>\n  </thead>\n  <tbody>\n    <tr>\n      <td>Female</td>\n      <td>113</td>\n      <td>3.203009</td>\n      <td>361.94</td>\n      <td>4.468395</td>\n    </tr>\n    <tr>\n      <td>Male</td>\n      <td>652</td>\n      <td>3.017853</td>\n      <td>1967.64</td>\n      <td>4.065372</td>\n    </tr>\n    <tr>\n      <td>Other / Non-Disclosed</td>\n      <td>15</td>\n      <td>3.346000</td>\n      <td>50.19</td>\n      <td>4.562727</td>\n    </tr>\n  </tbody>\n</table>\n</div>"
     },
     "metadata": {},
     "execution_count": 36
    }
   ],
   "source": [
    "purchasing_analysis_gender = pd.DataFrame() \n",
    "purchasing_analysis_gender['Purchase Count'] = df_grouped_gender.count()['Item Name']\n",
    "purchasing_analysis_gender['Average Purchase Price'] = df_grouped_gender.mean()['Price']\n",
    "purchasing_analysis_gender['Total Purchase Value'] = df_grouped_gender.sum()['Price']\n",
    "purchasing_analysis_gender['Normalized Totals'] = purchasing_analysis_gender['Total Purchase Value']/ gender_demo['Total Count']\n",
    "\n",
    "purchasing_analysis_gender.head()"
   ]
  },
  {
   "cell_type": "markdown",
   "metadata": {},
   "source": [
    "## Age Demographics"
   ]
  },
  {
   "cell_type": "markdown",
   "metadata": {},
   "source": [
    "* Establish bins for ages\n",
    "\n",
    "\n",
    "* Categorize the existing players using the age bins. Hint: use pd.cut()\n",
    "\n",
    "\n",
    "* Calculate the numbers and percentages by age group\n",
    "\n",
    "\n",
    "* Create a summary data frame to hold the results\n",
    "\n",
    "\n",
    "* Optional: round the percentage column to two decimal points\n",
    "\n",
    "\n",
    "* Display Age Demographics Table\n"
   ]
  },
  {
   "cell_type": "code",
   "execution_count": 37,
   "metadata": {},
   "outputs": [
    {
     "output_type": "execute_result",
     "data": {
      "text/plain": "                Percentage of Players (%)  Total Count\nAge Categories                                        \n<10                              2.951389           17\n10-14                            3.819444           22\n15-19                           18.576389          107\n20-24                           44.791667          258\n25-29                           13.368056           77",
      "text/html": "<div>\n<style scoped>\n    .dataframe tbody tr th:only-of-type {\n        vertical-align: middle;\n    }\n\n    .dataframe tbody tr th {\n        vertical-align: top;\n    }\n\n    .dataframe thead th {\n        text-align: right;\n    }\n</style>\n<table border=\"1\" class=\"dataframe\">\n  <thead>\n    <tr style=\"text-align: right;\">\n      <th></th>\n      <th>Percentage of Players (%)</th>\n      <th>Total Count</th>\n    </tr>\n    <tr>\n      <th>Age Categories</th>\n      <th></th>\n      <th></th>\n    </tr>\n  </thead>\n  <tbody>\n    <tr>\n      <td>&lt;10</td>\n      <td>2.951389</td>\n      <td>17</td>\n    </tr>\n    <tr>\n      <td>10-14</td>\n      <td>3.819444</td>\n      <td>22</td>\n    </tr>\n    <tr>\n      <td>15-19</td>\n      <td>18.576389</td>\n      <td>107</td>\n    </tr>\n    <tr>\n      <td>20-24</td>\n      <td>44.791667</td>\n      <td>258</td>\n    </tr>\n    <tr>\n      <td>25-29</td>\n      <td>13.368056</td>\n      <td>77</td>\n    </tr>\n  </tbody>\n</table>\n</div>"
     },
     "metadata": {},
     "execution_count": 37
    }
   ],
   "source": [
    "bins = [0, 9.90, 14.90, 19.90, 24.90, 29.90, 34.90, 39.90, 500]\n",
    "labels = [\"<10\", \"10-14\", \"15-19\", \"20-24\", \"25-29\", \"30-34\", \"35-39\", \"40+\"]\n",
    "age_cat = pd.cut(df['Age'], bins = bins, right = False, labels = labels)\n",
    "df_age = df\n",
    "df_age['Age Categories'] = age_cat\n",
    "df_age.head()\n",
    "\n",
    "df_grouped_age = df_age.groupby(['Age Categories'])\n",
    "age_demo = pd.DataFrame()\n",
    "age_demo['Percentage of Players (%)'] = df_grouped_age['SN'].nunique() / player_total * 100\n",
    "age_demo['Total Count'] = df_grouped_age['SN'].nunique()\n",
    "age_demo.head()"
   ]
  },
  {
   "cell_type": "markdown",
   "metadata": {},
   "source": [
    "* Bin the purchase_data data frame by age\n",
    "\n",
    "\n",
    "* Run basic calculations to obtain purchase count, avg. purchase price, avg. purchase total per person etc. in the table below\n",
    "\n",
    "\n",
    "* Create a summary data frame to hold the results\n",
    "\n",
    "\n",
    "* Optional: give the displayed data cleaner formatting\n",
    "\n",
    "\n",
    "* Display the summary data frame"
   ]
  },
  {
   "cell_type": "code",
   "execution_count": 38,
   "metadata": {},
   "outputs": [
    {
     "output_type": "execute_result",
     "data": {
      "text/plain": "                Purchase Count  Average Purchase Price  Total Purchase Value  \\\nAge Categories                                                                 \n<10                         23                3.353478                 77.13   \n10-14                       28                2.956429                 82.78   \n15-19                      136                3.035956                412.89   \n20-24                      365                3.052219               1114.06   \n25-29                      101                2.900990                293.00   \n\n                Normalized Totals  \nAge Categories                     \n<10                      4.537059  \n10-14                    3.762727  \n15-19                    3.858785  \n20-24                    4.318062  \n25-29                    3.805195  ",
      "text/html": "<div>\n<style scoped>\n    .dataframe tbody tr th:only-of-type {\n        vertical-align: middle;\n    }\n\n    .dataframe tbody tr th {\n        vertical-align: top;\n    }\n\n    .dataframe thead th {\n        text-align: right;\n    }\n</style>\n<table border=\"1\" class=\"dataframe\">\n  <thead>\n    <tr style=\"text-align: right;\">\n      <th></th>\n      <th>Purchase Count</th>\n      <th>Average Purchase Price</th>\n      <th>Total Purchase Value</th>\n      <th>Normalized Totals</th>\n    </tr>\n    <tr>\n      <th>Age Categories</th>\n      <th></th>\n      <th></th>\n      <th></th>\n      <th></th>\n    </tr>\n  </thead>\n  <tbody>\n    <tr>\n      <td>&lt;10</td>\n      <td>23</td>\n      <td>3.353478</td>\n      <td>77.13</td>\n      <td>4.537059</td>\n    </tr>\n    <tr>\n      <td>10-14</td>\n      <td>28</td>\n      <td>2.956429</td>\n      <td>82.78</td>\n      <td>3.762727</td>\n    </tr>\n    <tr>\n      <td>15-19</td>\n      <td>136</td>\n      <td>3.035956</td>\n      <td>412.89</td>\n      <td>3.858785</td>\n    </tr>\n    <tr>\n      <td>20-24</td>\n      <td>365</td>\n      <td>3.052219</td>\n      <td>1114.06</td>\n      <td>4.318062</td>\n    </tr>\n    <tr>\n      <td>25-29</td>\n      <td>101</td>\n      <td>2.900990</td>\n      <td>293.00</td>\n      <td>3.805195</td>\n    </tr>\n  </tbody>\n</table>\n</div>"
     },
     "metadata": {},
     "execution_count": 38
    }
   ],
   "source": [
    "purchase_analysis_age = pd.DataFrame()\n",
    "purchase_analysis_age['Purchase Count'] = df_grouped_age.count()['Item ID']\n",
    "purchase_analysis_age['Average Purchase Price'] = df_grouped_age.mean()['Price']\n",
    "purchase_analysis_age['Total Purchase Value'] = df_grouped_age.sum()['Price']\n",
    "purchase_analysis_age['Normalized Totals'] = purchase_analysis_age['Total Purchase Value']/age_demo['Total Count']\n",
    "purchase_analysis_age.head()"
   ]
  },
  {
   "cell_type": "markdown",
   "metadata": {},
   "source": [
    "## Top Spenders"
   ]
  },
  {
   "cell_type": "markdown",
   "metadata": {},
   "source": [
    "* Run basic calculations to obtain the results in the table below\n",
    "\n",
    "\n",
    "* Create a summary data frame to hold the results\n",
    "\n",
    "\n",
    "* Sort the total purchase value column in descending order\n",
    "\n",
    "\n",
    "* Optional: give the displayed data cleaner formatting\n",
    "\n",
    "\n",
    "* Display a preview of the summary data frame\n",
    "\n"
   ]
  },
  {
   "cell_type": "code",
   "execution_count": 41,
   "metadata": {},
   "outputs": [
    {
     "output_type": "execute_result",
     "data": {
      "text/plain": "             Purchase Count  Average Purchase Price ($)  \\\nSN                                                        \nLisosia93                 5                    3.792000   \nIdastidru52               4                    3.862500   \nChamjask73                3                    4.610000   \nIral74                    4                    3.405000   \nIskadarya95               3                    4.366667   \n\n             Total Purchase Value ($)  \nSN                                     \nLisosia93                       18.96  \nIdastidru52                     15.45  \nChamjask73                      13.83  \nIral74                          13.62  \nIskadarya95                     13.10  ",
      "text/html": "<div>\n<style scoped>\n    .dataframe tbody tr th:only-of-type {\n        vertical-align: middle;\n    }\n\n    .dataframe tbody tr th {\n        vertical-align: top;\n    }\n\n    .dataframe thead th {\n        text-align: right;\n    }\n</style>\n<table border=\"1\" class=\"dataframe\">\n  <thead>\n    <tr style=\"text-align: right;\">\n      <th></th>\n      <th>Purchase Count</th>\n      <th>Average Purchase Price ($)</th>\n      <th>Total Purchase Value ($)</th>\n    </tr>\n    <tr>\n      <th>SN</th>\n      <th></th>\n      <th></th>\n      <th></th>\n    </tr>\n  </thead>\n  <tbody>\n    <tr>\n      <td>Lisosia93</td>\n      <td>5</td>\n      <td>3.792000</td>\n      <td>18.96</td>\n    </tr>\n    <tr>\n      <td>Idastidru52</td>\n      <td>4</td>\n      <td>3.862500</td>\n      <td>15.45</td>\n    </tr>\n    <tr>\n      <td>Chamjask73</td>\n      <td>3</td>\n      <td>4.610000</td>\n      <td>13.83</td>\n    </tr>\n    <tr>\n      <td>Iral74</td>\n      <td>4</td>\n      <td>3.405000</td>\n      <td>13.62</td>\n    </tr>\n    <tr>\n      <td>Iskadarya95</td>\n      <td>3</td>\n      <td>4.366667</td>\n      <td>13.10</td>\n    </tr>\n  </tbody>\n</table>\n</div>"
     },
     "metadata": {},
     "execution_count": 41
    }
   ],
   "source": [
    "df_player = df.groupby(['SN'])\n",
    "spenders = pd.DataFrame()\n",
    "spenders['Purchase Count'] = df_player['Item ID'].count()\n",
    "spenders['Average Purchase Price ($)'] = df_player['Price'].mean()\n",
    "spenders['Total Purchase Value ($)'] = df_player['Price'].sum()\n",
    "spenders_sorted = spenders.sort_values(by = ['Total Purchase Value ($)'], ascending = False)\n",
    "top_spenders = spenders_sorted.iloc[0:5]\n",
    "top_spenders"
   ]
  },
  {
   "cell_type": "markdown",
   "metadata": {},
   "source": [
    "## Most Popular Items"
   ]
  },
  {
   "cell_type": "markdown",
   "metadata": {},
   "source": [
    "* Retrieve the Item ID, Item Name, and Item Price columns\n",
    "\n",
    "\n",
    "* Group by Item ID and Item Name. Perform calculations to obtain purchase count, item price, and total purchase value\n",
    "\n",
    "\n",
    "* Create a summary data frame to hold the results\n",
    "\n",
    "\n",
    "* Sort the purchase count column in descending order\n",
    "\n",
    "\n",
    "* Optional: give the displayed data cleaner formatting\n",
    "\n",
    "\n",
    "* Display a preview of the summary data frame\n",
    "\n"
   ]
  },
  {
   "cell_type": "code",
   "execution_count": 31,
   "metadata": {},
   "outputs": [
    {
     "output_type": "execute_result",
     "data": {
      "text/plain": "                                                      Total Purchase Value  \\\nItem ID Item Name                                                            \n178     Oathbreaker, Last Hope of the Breaking Storm                 50.76   \n145     Fiery Glass Crusader                                         41.22   \n108     Extraction, Quickblade Of Trembling Hands                    31.77   \n82      Nirvana                                                      44.10   \n19      Pursuit, Cudgel of Necromancy                                 8.16   \n103     Singed Scalpel                                               34.80   \n75      Brutality Ivory Warmace                                      19.36   \n72      Winter's Bite                                                30.16   \n60      Wolf                                                         28.32   \n59      Lightning, Etcher of the King                                33.84   \n\n                                                      Item Price  \\\nItem ID Item Name                                                  \n178     Oathbreaker, Last Hope of the Breaking Storm        4.23   \n145     Fiery Glass Crusader                                4.58   \n108     Extraction, Quickblade Of Trembling Hands           3.53   \n82      Nirvana                                             4.90   \n19      Pursuit, Cudgel of Necromancy                       1.02   \n103     Singed Scalpel                                      4.35   \n75      Brutality Ivory Warmace                             2.42   \n72      Winter's Bite                                       3.77   \n60      Wolf                                                3.54   \n59      Lightning, Etcher of the King                       4.23   \n\n                                                      Purchase Count  \nItem ID Item Name                                                     \n178     Oathbreaker, Last Hope of the Breaking Storm              12  \n145     Fiery Glass Crusader                                       9  \n108     Extraction, Quickblade Of Trembling Hands                  9  \n82      Nirvana                                                    9  \n19      Pursuit, Cudgel of Necromancy                              8  \n103     Singed Scalpel                                             8  \n75      Brutality Ivory Warmace                                    8  \n72      Winter's Bite                                              8  \n60      Wolf                                                       8  \n59      Lightning, Etcher of the King                              8  ",
      "text/html": "<div>\n<style scoped>\n    .dataframe tbody tr th:only-of-type {\n        vertical-align: middle;\n    }\n\n    .dataframe tbody tr th {\n        vertical-align: top;\n    }\n\n    .dataframe thead th {\n        text-align: right;\n    }\n</style>\n<table border=\"1\" class=\"dataframe\">\n  <thead>\n    <tr style=\"text-align: right;\">\n      <th></th>\n      <th></th>\n      <th>Total Purchase Value</th>\n      <th>Item Price</th>\n      <th>Purchase Count</th>\n    </tr>\n    <tr>\n      <th>Item ID</th>\n      <th>Item Name</th>\n      <th></th>\n      <th></th>\n      <th></th>\n    </tr>\n  </thead>\n  <tbody>\n    <tr>\n      <td>178</td>\n      <td>Oathbreaker, Last Hope of the Breaking Storm</td>\n      <td>50.76</td>\n      <td>4.23</td>\n      <td>12</td>\n    </tr>\n    <tr>\n      <td>145</td>\n      <td>Fiery Glass Crusader</td>\n      <td>41.22</td>\n      <td>4.58</td>\n      <td>9</td>\n    </tr>\n    <tr>\n      <td>108</td>\n      <td>Extraction, Quickblade Of Trembling Hands</td>\n      <td>31.77</td>\n      <td>3.53</td>\n      <td>9</td>\n    </tr>\n    <tr>\n      <td>82</td>\n      <td>Nirvana</td>\n      <td>44.10</td>\n      <td>4.90</td>\n      <td>9</td>\n    </tr>\n    <tr>\n      <td>19</td>\n      <td>Pursuit, Cudgel of Necromancy</td>\n      <td>8.16</td>\n      <td>1.02</td>\n      <td>8</td>\n    </tr>\n    <tr>\n      <td>103</td>\n      <td>Singed Scalpel</td>\n      <td>34.80</td>\n      <td>4.35</td>\n      <td>8</td>\n    </tr>\n    <tr>\n      <td>75</td>\n      <td>Brutality Ivory Warmace</td>\n      <td>19.36</td>\n      <td>2.42</td>\n      <td>8</td>\n    </tr>\n    <tr>\n      <td>72</td>\n      <td>Winter's Bite</td>\n      <td>30.16</td>\n      <td>3.77</td>\n      <td>8</td>\n    </tr>\n    <tr>\n      <td>60</td>\n      <td>Wolf</td>\n      <td>28.32</td>\n      <td>3.54</td>\n      <td>8</td>\n    </tr>\n    <tr>\n      <td>59</td>\n      <td>Lightning, Etcher of the King</td>\n      <td>33.84</td>\n      <td>4.23</td>\n      <td>8</td>\n    </tr>\n  </tbody>\n</table>\n</div>"
     },
     "metadata": {},
     "execution_count": 31
    }
   ],
   "source": [
    "item_data = purchase_data.loc[:,[\"Item ID\", \"Item Name\", \"Price\"]]\n",
    "\n",
    "total_item_purchase = item_data.groupby([\"Item ID\", \"Item Name\"]).sum()[\"Price\"].rename(\"Total Purchase Value\")\n",
    "average_item_purchase = item_data.groupby([\"Item ID\", \"Item Name\"]).mean()[\"Price\"]\n",
    "item_count = item_data.groupby([\"Item ID\", \"Item Name\"]).count()[\"Price\"].rename(\"Purchase Count\")\n",
    "\n",
    "item_data_pd = pd.DataFrame({\"Total Purchase Value\": total_item_purchase, \"Item Price\": average_item_purchase, \"Purchase Count\": item_count})\n",
    "\n",
    "item_data_count_sorted = item_data_pd.sort_values(\"Purchase Count\", ascending=False)\n",
    "\n",
    "item_data_count_sorted.head(10)"
   ]
  },
  {
   "cell_type": "markdown",
   "metadata": {},
   "source": [
    "## Most Profitable Items"
   ]
  },
  {
   "cell_type": "markdown",
   "metadata": {},
   "source": [
    "* Sort the above table by total purchase value in descending order\n",
    "\n",
    "\n",
    "* Optional: give the displayed data cleaner formatting\n",
    "\n",
    "\n",
    "* Display a preview of the data frame\n",
    "\n"
   ]
  },
  {
   "cell_type": "code",
   "execution_count": 32,
   "metadata": {
    "scrolled": true
   },
   "outputs": [
    {
     "output_type": "execute_result",
     "data": {
      "text/plain": "                                                      Total Purchase Value  \\\nItem ID Item Name                                                            \n178     Oathbreaker, Last Hope of the Breaking Storm                 50.76   \n82      Nirvana                                                      44.10   \n145     Fiery Glass Crusader                                         41.22   \n92      Final Critic                                                 39.04   \n103     Singed Scalpel                                               34.80   \n59      Lightning, Etcher of the King                                33.84   \n108     Extraction, Quickblade Of Trembling Hands                    31.77   \n78      Glimmer, Ender of the Moon                                   30.80   \n72      Winter's Bite                                                30.16   \n60      Wolf                                                         28.32   \n\n                                                      Item Price  \\\nItem ID Item Name                                                  \n178     Oathbreaker, Last Hope of the Breaking Storm        4.23   \n82      Nirvana                                             4.90   \n145     Fiery Glass Crusader                                4.58   \n92      Final Critic                                        4.88   \n103     Singed Scalpel                                      4.35   \n59      Lightning, Etcher of the King                       4.23   \n108     Extraction, Quickblade Of Trembling Hands           3.53   \n78      Glimmer, Ender of the Moon                          4.40   \n72      Winter's Bite                                       3.77   \n60      Wolf                                                3.54   \n\n                                                      Purchase Count  \nItem ID Item Name                                                     \n178     Oathbreaker, Last Hope of the Breaking Storm              12  \n82      Nirvana                                                    9  \n145     Fiery Glass Crusader                                       9  \n92      Final Critic                                               8  \n103     Singed Scalpel                                             8  \n59      Lightning, Etcher of the King                              8  \n108     Extraction, Quickblade Of Trembling Hands                  9  \n78      Glimmer, Ender of the Moon                                 7  \n72      Winter's Bite                                              8  \n60      Wolf                                                       8  ",
      "text/html": "<div>\n<style scoped>\n    .dataframe tbody tr th:only-of-type {\n        vertical-align: middle;\n    }\n\n    .dataframe tbody tr th {\n        vertical-align: top;\n    }\n\n    .dataframe thead th {\n        text-align: right;\n    }\n</style>\n<table border=\"1\" class=\"dataframe\">\n  <thead>\n    <tr style=\"text-align: right;\">\n      <th></th>\n      <th></th>\n      <th>Total Purchase Value</th>\n      <th>Item Price</th>\n      <th>Purchase Count</th>\n    </tr>\n    <tr>\n      <th>Item ID</th>\n      <th>Item Name</th>\n      <th></th>\n      <th></th>\n      <th></th>\n    </tr>\n  </thead>\n  <tbody>\n    <tr>\n      <td>178</td>\n      <td>Oathbreaker, Last Hope of the Breaking Storm</td>\n      <td>50.76</td>\n      <td>4.23</td>\n      <td>12</td>\n    </tr>\n    <tr>\n      <td>82</td>\n      <td>Nirvana</td>\n      <td>44.10</td>\n      <td>4.90</td>\n      <td>9</td>\n    </tr>\n    <tr>\n      <td>145</td>\n      <td>Fiery Glass Crusader</td>\n      <td>41.22</td>\n      <td>4.58</td>\n      <td>9</td>\n    </tr>\n    <tr>\n      <td>92</td>\n      <td>Final Critic</td>\n      <td>39.04</td>\n      <td>4.88</td>\n      <td>8</td>\n    </tr>\n    <tr>\n      <td>103</td>\n      <td>Singed Scalpel</td>\n      <td>34.80</td>\n      <td>4.35</td>\n      <td>8</td>\n    </tr>\n    <tr>\n      <td>59</td>\n      <td>Lightning, Etcher of the King</td>\n      <td>33.84</td>\n      <td>4.23</td>\n      <td>8</td>\n    </tr>\n    <tr>\n      <td>108</td>\n      <td>Extraction, Quickblade Of Trembling Hands</td>\n      <td>31.77</td>\n      <td>3.53</td>\n      <td>9</td>\n    </tr>\n    <tr>\n      <td>78</td>\n      <td>Glimmer, Ender of the Moon</td>\n      <td>30.80</td>\n      <td>4.40</td>\n      <td>7</td>\n    </tr>\n    <tr>\n      <td>72</td>\n      <td>Winter's Bite</td>\n      <td>30.16</td>\n      <td>3.77</td>\n      <td>8</td>\n    </tr>\n    <tr>\n      <td>60</td>\n      <td>Wolf</td>\n      <td>28.32</td>\n      <td>3.54</td>\n      <td>8</td>\n    </tr>\n  </tbody>\n</table>\n</div>"
     },
     "metadata": {},
     "execution_count": 32
    }
   ],
   "source": [
    "item_total_purchase = item_data_pd.sort_values(\"Total Purchase Value\", ascending=False)\n",
    "\n",
    "item_total_purchase.head(10)"
   ]
  },
  {
   "cell_type": "code",
   "execution_count": null,
   "metadata": {},
   "outputs": [],
   "source": []
  }
 ],
 "metadata": {
  "anaconda-cloud": {},
  "kernel_info": {
   "name": "python3"
  },
  "kernelspec": {
   "display_name": "Python 3",
   "language": "python",
   "name": "python3"
  },
  "language_info": {
   "codemirror_mode": {
    "name": "ipython",
    "version": 3
   },
   "file_extension": ".py",
   "mimetype": "text/x-python",
   "name": "python",
   "nbconvert_exporter": "python",
   "pygments_lexer": "ipython3",
   "version": "3.7.4-final"
  },
  "latex_envs": {
   "LaTeX_envs_menu_present": true,
   "autoclose": false,
   "autocomplete": true,
   "bibliofile": "biblio.bib",
   "cite_by": "apalike",
   "current_citInitial": 1,
   "eqLabelWithNumbers": true,
   "eqNumInitial": 1,
   "hotkeys": {
    "equation": "Ctrl-E",
    "itemize": "Ctrl-I"
   },
   "labels_anchors": false,
   "latex_user_defs": false,
   "report_style_numbering": false,
   "user_envs_cfg": false
  },
  "nteract": {
   "version": "0.2.0"
  }
 },
 "nbformat": 4,
 "nbformat_minor": 2
}